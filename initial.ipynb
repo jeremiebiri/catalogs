{
 "cells": [
  {
   "cell_type": "markdown",
   "metadata": {},
   "source": [
    "Dependencies"
   ]
  },
  {
   "cell_type": "code",
   "execution_count": null,
   "metadata": {},
   "outputs": [],
   "source": [
    "!pip install torch torchvision torchaudio --index-url https://download.pytorch.org/whl/cu121\n",
    "!pip install transformers"
   ]
  },
  {
   "cell_type": "code",
   "execution_count": null,
   "metadata": {},
   "outputs": [],
   "source": [
    "pip install datasets\n"
   ]
  },
  {
   "cell_type": "code",
   "execution_count": null,
   "metadata": {},
   "outputs": [],
   "source": [
    "pip install \"accelerate>=0.26.0\"\n"
   ]
  },
  {
   "cell_type": "code",
   "execution_count": null,
   "metadata": {},
   "outputs": [],
   "source": [
    "!pip install transformers-4.46.2-py3-none-any.whl"
   ]
  },
  {
   "cell_type": "code",
   "execution_count": null,
   "metadata": {},
   "outputs": [],
   "source": [
    "pip install torch torchvision torchaudio --index-url https://download.pytorch.org/whl/cu126\n"
   ]
  },
  {
   "cell_type": "code",
   "execution_count": null,
   "metadata": {},
   "outputs": [],
   "source": [
    "pip show accelerate\n"
   ]
  },
  {
   "cell_type": "code",
   "execution_count": null,
   "metadata": {},
   "outputs": [],
   "source": [
    "nvcc --version\n",
    "\n"
   ]
  },
  {
   "cell_type": "code",
   "execution_count": null,
   "metadata": {},
   "outputs": [],
   "source": [
    "import torch\n",
    "print(\"CUDA available:\", torch.cuda.is_available())\n"
   ]
  },
  {
   "cell_type": "code",
   "execution_count": null,
   "metadata": {},
   "outputs": [],
   "source": [
    "import torch\n",
    "from transformers import AutoTokenizer, AutoModelForSequenceClassification, Trainer, TrainingArguments\n",
    "from datasets import Dataset\n",
    "import pandas as pd\n",
    "from sklearn.metrics import classification_report\n",
    "import json\n",
    "\n",
    "# Check if CUDA is available and set device accordingly\n",
    "device = torch.device(\"cuda\" if torch.cuda.is_available() else \"cpu\")\n",
    "print(f\"Using device: {device}\")\n",
    "\n",
    "# Load the Bio_ClinicalBERT tokenizer and model\n",
    "tokenizer = AutoTokenizer.from_pretrained(\"./Bio_ClinicalBERT\")\n",
    "model = AutoModelForSequenceClassification.from_pretrained(\"./Bio_ClinicalBERT\", num_labels=3)  # Assuming 3 chronic diseases\n",
    "\n",
    "# Initialize the classification head weights\n",
    "model.classifier.weight.data.normal_(mean=0.0, std=model.config.initializer_range)\n",
    "model.classifier.bias.data.zero_()\n",
    "\n",
    "# Move the model to the GPU\n",
    "model.to(device)\n",
    "\n",
    "# Custom Trainer to handle non-contiguous tensors (optional, only if issues arise)\n",
    "class CustomTrainer(Trainer):\n",
    "    def _save(self, output_dir: str, state_dict=None):\n",
    "        for name, param in self.model.named_parameters():\n",
    "            if not param.is_contiguous():\n",
    "                param.data = param.contiguous()\n",
    "        super()._save(output_dir, state_dict)\n",
    "\n",
    "# Sample data - for testing\n",
    "data = [\n",
    "    {\"text\": \"Patient has a history of type 2 diabetes.\", \"label\": 0},\n",
    "    {\"text\": \"Hypertension is controlled with medication.\", \"label\": 1},\n",
    "    {\"text\": \"Asthma symptoms worsening over the past week.\", \"label\": 2},\n",
    "]\n",
    "\n",
    "# Create a DataFrame from the sample data\n",
    "df = pd.DataFrame(data)\n",
    "\n",
    "# Tokenization function with max_length\n",
    "def tokenize_function(examples):\n",
    "    return tokenizer(examples[\"text\"], padding=\"max_length\", truncation=True, max_length=128)\n",
    "\n",
    "# Convert DataFrame to Dataset object\n",
    "dataset = Dataset.from_pandas(df)\n",
    "\n",
    "# Apply tokenizer to dataset\n",
    "tokenized_datasets = dataset.map(tokenize_function, batched=True)\n",
    "\n",
    "# Split the data into training and test sets\n",
    "train_test_split = tokenized_datasets.train_test_split(test_size=0.2)\n",
    "train_dataset = train_test_split[\"train\"]\n",
    "test_dataset = train_test_split[\"test\"]\n",
    "\n",
    "# Define training arguments (necessary for setting up Trainer, but won't actually train)\n",
    "training_args = TrainingArguments(\n",
    "    output_dir=\"./results\",         # Directory to save model checkpoints\n",
    "    num_train_epochs=3,             # Number of training epochs\n",
    "    per_device_train_batch_size=8,  # Training batch size\n",
    "    per_device_eval_batch_size=8,   # Evaluation batch size\n",
    "    save_steps=500,                 # Save checkpoint every 500 steps\n",
    "    save_total_limit=1,             # Only keep the latest checkpoint\n",
    ")\n",
    "\n",
    "# Set up Trainer with CustomTrainer, but skip training\n",
    "trainer = CustomTrainer(\n",
    "    model=model,\n",
    "    args=training_args,\n",
    "    train_dataset=train_dataset,\n",
    "    eval_dataset=test_dataset,\n",
    ")\n",
    "\n",
    "# Make predictions directly without fine-tuning\n",
    "predictions = trainer.predict(test_dataset)\n",
    "\n",
    "# Ensure predictions are moved to the GPU before converting to tensor\n",
    "preds = torch.tensor(predictions.predictions).to(device).argmax(dim=1)\n",
    "\n",
    "# Create the data catalog\n",
    "catalog = {\n",
    "    \"use_case\": \"Classifying Doctors' Notes for Chronic Diseases\",\n",
    "    \"model\": \"Bio_ClinicalBERT\",\n",
    "    \"model_parameters\": {\n",
    "        \"num_labels\": 3,\n",
    "        \"epochs\": training_args.num_train_epochs,\n",
    "        \"batch_size\": training_args.per_device_train_batch_size,\n",
    "    },\n",
    "    \"results\": []\n",
    "}\n",
    "\n",
    "# Populate the catalog with classification results\n",
    "for i in range(len(test_dataset)):\n",
    "    note = test_dataset[\"text\"][i]\n",
    "    true_label = test_dataset[\"label\"][i]\n",
    "    predicted_label = preds[i].item()\n",
    "    confidence_score = float(predictions.predictions[i].max())  # Convert to Python float\n",
    "    catalog[\"results\"].append({\n",
    "        \"note\": note,\n",
    "        \"true_label\": true_label,\n",
    "        \"predicted_label\": predicted_label,\n",
    "        \"confidence_score\": confidence_score,\n",
    "    })\n",
    "\n",
    "# Save the catalog to a JSON file\n",
    "with open(\"classification_catalog.json\", \"w\") as f:\n",
    "    json.dump(catalog, f, indent=4)\n",
    "\n",
    "# Print the classification report\n",
    "print(classification_report(test_dataset[\"label\"], preds.cpu()))  # Convert tensors back to CPU for reporting\n",
    "\n"
   ]
  }
 ],
 "metadata": {
  "kernelspec": {
   "display_name": "Python 3",
   "language": "python",
   "name": "python3"
  },
  "language_info": {
   "codemirror_mode": {
    "name": "ipython",
    "version": 3
   },
   "file_extension": ".py",
   "mimetype": "text/x-python",
   "name": "python",
   "nbconvert_exporter": "python",
   "pygments_lexer": "ipython3",
   "version": "3.10.4"
  }
 },
 "nbformat": 4,
 "nbformat_minor": 2
}
